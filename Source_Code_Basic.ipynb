{
 "cells": [
  {
   "cell_type": "code",
   "execution_count": 6,
   "id": "a365b60a",
   "metadata": {
    "tags": []
   },
   "outputs": [],
   "source": [
    "#all code that is turned into a comment has been removed, in order to simplify and omptimize the code\n",
    "\n",
    "def savings(gross_pay=30000,tax_rate=12,expenses=15000):\n",
    "#    gross_pay = int(input(\"Gross Pay: \"))\n",
    "#    tax_rate = float(input(\"Current Tax Rate: \"))\n",
    "#    expenses = int(input(\"Expenses: \"))\n",
    "    tax_rate /= 100\n",
    "    savings = (gross_pay-round(gross_pay*tax_rate))-expenses\n",
    "    savings *= 100\n",
    "    print(\"Savings: \" + str(savings) + \" Centavos\")\n",
    "    return int(savings)\n",
    "    \n",
    "def material_waste(total_material=100,material_units=\"kg\",num_jobs=10,job_consumption=10):\n",
    "#    total_material = int(input(\"Total Material: \"))\n",
    "#    material_units = str(input(\"Material Unit (e.g. kg, lbs, etc.): \"))\n",
    "#    num_jobs = int(input(\"Number of Jobs: \"))\n",
    "#    job_consumption = int(input(\"Job Consumption: \"))\n",
    "    material_waste = total_material-(num_jobs*job_consumption)\n",
    "    print(\"Remaining Material: \" + str(material_waste) + material_units)\n",
    "    return str(material_waste) + material_units\n",
    "\n",
    "def interest(principal=10000,rate=10,periods=30):\n",
    "#    principal = int(input(\"Principal Amount: \"))\n",
    "#    rate = float(input(\"Interest Rate per Period: \"))\n",
    "#    periods = int(input(\"Number of Periods: \"))\n",
    "    rate /= 100\n",
    "    inter = principal + (principal*rate*periods)\n",
    "    print(\"Investment value: \" + str(inter))\n",
    "    return int(inter)\n",
    "\n",
    "def body_mass_index(weight=150,height=[5,10]):\n",
    "#    weight = float(input(\"Weight (lbs): \"))\n",
    "#    height = float()\n",
    "#    height = list(input(\"Height in ft, in (e.g. 5 10 = 5'10\\\"): \").split())\n",
    "    height_ft = int(height[0])\n",
    "    height_in = int(height[1])\n",
    "    height_m = height_ft*12*0.0254 + height_in*0.0254\n",
    "    weight /= 2.2\n",
    "    bmi = weight/(height_m*height_m)\n",
    "    if bmi>=30:\n",
    "        bmi_category = str(\"Obese\")\n",
    "    elif bmi>=25:\n",
    "        bmi_category = str(\"Overweight\")\n",
    "    elif bmi>=18:\n",
    "        bmi_category = str(\"Normal weight\")\n",
    "    else:\n",
    "        bmi_category = str(\"Underweight\")\n",
    "    print(\"Weight (kg): \" + str(weight) + \"\\nHeight (m): \" + str(height_m) + \"\\nBody Mass Index: \" + str(bmi) + \"\\nBMI Category: \" + bmi_category)\n",
    "    return float(bmi)"
   ]
  },
  {
   "cell_type": "code",
   "execution_count": 11,
   "id": "194f0990-f6a4-467e-813c-bc9e89fdebd1",
   "metadata": {
    "tags": []
   },
   "outputs": [
    {
     "name": "stdout",
     "output_type": "stream",
     "text": [
      "Weight (kg): 68.18181818181817\n",
      "Height (m): 1.778\n",
      "Body Mass Index: 21.567761131811686\n",
      "BMI Category: Normal weight\n"
     ]
    },
    {
     "data": {
      "text/plain": [
       "21.567761131811686"
      ]
     },
     "execution_count": 11,
     "metadata": {},
     "output_type": "execute_result"
    }
   ],
   "source": [
    "body_mass_index()"
   ]
  },
  {
   "cell_type": "code",
   "execution_count": null,
   "id": "9ca014f6-bfc9-46ed-9440-818f6acd995a",
   "metadata": {},
   "outputs": [],
   "source": []
  }
 ],
 "metadata": {
  "kernelspec": {
   "display_name": "Python 3 (ipykernel)",
   "language": "python",
   "name": "python3"
  },
  "language_info": {
   "codemirror_mode": {
    "name": "ipython",
    "version": 3
   },
   "file_extension": ".py",
   "mimetype": "text/x-python",
   "name": "python",
   "nbconvert_exporter": "python",
   "pygments_lexer": "ipython3",
   "version": "3.11.4"
  }
 },
 "nbformat": 4,
 "nbformat_minor": 5
}

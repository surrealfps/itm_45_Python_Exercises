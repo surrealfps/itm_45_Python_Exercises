{
 "cells": [
  {
   "cell_type": "code",
   "execution_count": 3,
   "id": "59520c06-9274-4ef6-afa4-cd55159c5d64",
   "metadata": {
    "tags": []
   },
   "outputs": [],
   "source": [
    "#all code that is turned into a comment has been removed, in order to simplify the code\n",
    "\n",
    "#def shift_letter(letter, shift):\n",
    "#parameters\n",
    "#letter : str\n",
    "#shift : int\n",
    "#code is purposefully not optimized to practice and demonstrate the use of functions: while, if, elif, else\n",
    "#code is also adjusted to fit both uppercase and lowercase letters\n",
    "def shift_letter(letter=\"A\", shift=0):\n",
    "#    letter = str(input(\"Enter a letter: \"))\n",
    "#    shift = int(input(\"Number of times the letter will be shifted (if 1, A->B): \"))\n",
    "    while shift>=26:\n",
    "        shift -=26\n",
    "    if (65<=ord(letter)<=90):\n",
    "        shifted_letter_ini = int(ord(letter)) + shift\n",
    "        if shifted_letter_ini>90:\n",
    "            shifted_letter_fin = ord(\"A\") + (shifted_letter_ini - ord(\"Z\") - 1)\n",
    "        else:\n",
    "            shifted_letter_fin = shifted_letter_ini\n",
    "    elif (97<=ord(letter)<=122):\n",
    "        shifted_letter_ini = int(ord(letter)) + shift\n",
    "        if shifted_letter_ini>122:\n",
    "            shifted_letter_fin = ord(\"a\") + (shifted_letter_ini - ord(\"z\") - 1)\n",
    "        else:\n",
    "            shifted_letter_fin = shifted_letter_ini\n",
    "    else:\n",
    "        print(\"The character \\\"\" + letter + \"\\\" remains unchanged because it is not a letter\")\n",
    "        return letter\n",
    "    print(\"Original letter: \" + letter + \"\\nShifted letter: \" + chr(shifted_letter_fin))\n",
    "    return chr(shifted_letter_fin)\n",
    "\n",
    "#def caesar_cipher(text, shift):\n",
    "#parameters\n",
    "#text : str\n",
    "#shift : int\n",
    "#code is adjusted to fit both uppercase and lowercase letters\n",
    "def caesar_cipher(message=\"I like pancakes\",shift=3):\n",
    "#    text = str(input(\"Enter a line of text: \"))\n",
    "#    shift = int(input(\"Enter a key (amount of times the letters will be shifted): \"))\n",
    "    result = \"\"\n",
    "    for char in message:\n",
    "        if char.isalpha():\n",
    "            is_upper = char.isupper()\n",
    "            char = char.lower()\n",
    "            shifted_char = chr(((ord(char) - ord(\"a\") + shift) % 26) + ord(\"a\"))\n",
    "            if is_upper:\n",
    "                shifted_char = shifted_char.upper()\n",
    "            result += shifted_char\n",
    "        else:\n",
    "            result += char\n",
    "    print(\"Original text: \" + message + \"\\nEncrypted text: \" + result)\n",
    "    return result\n",
    "\n",
    "#def shift_by_letter(letter, letter_shift):\n",
    "#parameters\n",
    "#letter : str\n",
    "#letter_shift : str\n",
    "#code is adjusted to fit both upptercase and lowercase letters\n",
    "def shift_by_letter(letter=\"A\",letter_shift=\"A\"):\n",
    "#    letter = str(input(\"Enter a letter: \"))\n",
    "#    letter_shift = str(input(\"Enter another letter, which will correspond to the amount of times the original letter will be shifted (e.g. A:0, B:1, C:2:,...): \"))\n",
    "    if letter_shift.isalpha():\n",
    "        if letter_shift.isupper():\n",
    "            shift = ord(letter_shift) - ord(\"A\")\n",
    "        else:\n",
    "            shift = ord(letter_shift) - ord(\"a\")\n",
    "    else:\n",
    "        print(\"Invalid character\")\n",
    "        return letter\n",
    "    if letter.isalpha():\n",
    "        if letter.isupper():\n",
    "            result = chr(((ord(letter) - ord(\"A\") + shift) % 26) + ord(\"A\"))\n",
    "        else:\n",
    "            result = chr(((ord(letter) - ord(\"a\") + shift) % 26) + ord(\"a\"))\n",
    "    else:\n",
    "        print(\"Original letter: \" + letter + \"\\nResult: \" + letter)\n",
    "        return letter\n",
    "    print(\"Original letter: \" + letter + \"\\nResult: \" + result)\n",
    "    return result\n",
    "    \n",
    "#def vigenere_cipher(message, key):\n",
    "#parameters\n",
    "#message : str\n",
    "#key : str\n",
    "#code is for uppercase letters only\n",
    "def vigenere_cipher(message=\"I am an ITMGT Student\", key=\"ITE\"):\n",
    "#    message = str(input(\"Enter a message: \").upper())\n",
    "#    key = str(input(\"Enter a key: \").upper())\n",
    "    message = message.upper()\n",
    "    key = key.upper()\n",
    "    if not key.isalpha():\n",
    "        print(\"Invalid. Please do NOT use any spaces or unique characters in your key\")\n",
    "        return message\n",
    "    encrypted_message = \"\"\n",
    "    #Split up the message to the length of the key\n",
    "    split_message = [message[i:i + len(key)] for i in range (0, len(message), len(key))]\n",
    "    #Translate each letter from each split using the key\n",
    "    for each_split in split_message:\n",
    "        i = 0\n",
    "        for letter in each_split:\n",
    "            if letter.isalpha():\n",
    "                shifted_letter = ((((ord(letter) - ord(\"A\")) + (ord(key[i]) - ord(\"A\"))) % 26) + ord(\"A\"))\n",
    "                encrypted_message += chr(shifted_letter)\n",
    "            else:\n",
    "                encrypted_message += letter\n",
    "            i += 1\n",
    "    print(\"Original message: \" + message + \"\\nEncrypted message: \" + encrypted_message)\n",
    "    return encrypted_message\n",
    "    \n"
   ]
  },
  {
   "cell_type": "code",
   "execution_count": 6,
   "id": "858a4245-d9bf-410f-b267-c0e1211c7b86",
   "metadata": {
    "tags": []
   },
   "outputs": [
    {
     "name": "stdout",
     "output_type": "stream",
     "text": [
      "Original message: I AM AN ITMGT STUDENT\n",
      "Encrypted message: Q EU EV MBFKB WBNHMGX\n"
     ]
    },
    {
     "data": {
      "text/plain": [
       "'Q EU EV MBFKB WBNHMGX'"
      ]
     },
     "execution_count": 6,
     "metadata": {},
     "output_type": "execute_result"
    }
   ],
   "source": [
    "vigenere_cipher()"
   ]
  },
  {
   "cell_type": "code",
   "execution_count": null,
   "id": "2cfc1f99-7805-432d-b410-edf0ab4d61f5",
   "metadata": {},
   "outputs": [],
   "source": []
  }
 ],
 "metadata": {
  "kernelspec": {
   "display_name": "Python 3 (ipykernel)",
   "language": "python",
   "name": "python3"
  },
  "language_info": {
   "codemirror_mode": {
    "name": "ipython",
    "version": 3
   },
   "file_extension": ".py",
   "mimetype": "text/x-python",
   "name": "python",
   "nbconvert_exporter": "python",
   "pygments_lexer": "ipython3",
   "version": "3.11.4"
  }
 },
 "nbformat": 4,
 "nbformat_minor": 5
}
